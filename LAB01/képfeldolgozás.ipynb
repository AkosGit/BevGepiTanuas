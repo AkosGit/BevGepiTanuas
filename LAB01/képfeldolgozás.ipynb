{
  "nbformat": 4,
  "nbformat_minor": 0,
  "metadata": {
    "colab": {
      "provenance": []
    },
    "kernelspec": {
      "name": "python3",
      "display_name": "Python 3"
    },
    "language_info": {
      "name": "python"
    }
  },
  "cells": [
    {
      "cell_type": "code",
      "execution_count": null,
      "metadata": {
        "colab": {
          "base_uri": "https://localhost:8080/"
        },
        "id": "OBa-HKdXjvFe",
        "outputId": "ea9a354b-56fd-4fa1-bac6-4450c1977fca"
      },
      "outputs": [
        {
          "output_type": "stream",
          "name": "stdout",
          "text": [
            "/content/drive/MyDrive\n"
          ]
        }
      ],
      "source": [
        "cd drive/MyDrive/"
      ]
    },
    {
      "cell_type": "code",
      "source": [
        "import os\n",
        "import cv2\n",
        "from google.colab.patches import cv2_imshow\n",
        "import os\n",
        "import sys\n",
        "import random\n",
        "import warnings\n",
        "\n",
        "import numpy as np\n",
        "import pandas as pd\n",
        "\n",
        "import matplotlib.pyplot as plt\n",
        "from PIL import Image\n",
        "from tqdm import tqdm\n",
        "from itertools import chain\n",
        "from skimage.io import imread, imshow, imread_collection, concatenate_images\n",
        "from skimage.transform import resize\n",
        "from skimage.morphology import label\n",
        "\n",
        "from PIL import ImageFile\n",
        "\n",
        "from tensorflow.keras.models import Model, load_model\n",
        "from tensorflow.keras.layers import Input\n",
        "from tensorflow.keras.layers import Dropout, Lambda,Dense,GlobalAveragePooling1D\n",
        "from tensorflow.keras.layers import Conv2D, Conv2DTranspose, BatchNormalization,ConvLSTM2D\n",
        "from tensorflow.keras.layers import MaxPooling2D,LSTM,GlobalMaxPool1D\n",
        "from tensorflow.keras.layers import concatenate\n",
        "from tensorflow.keras.callbacks import EarlyStopping, ModelCheckpoint\n",
        "from tensorflow.keras import backend as K\n",
        "\n",
        "import tensorflow as tf\n",
        "import cv2\n",
        "import numpy\n",
        "import gc\n",
        "import keras\n",
        "import pandas as pd\n",
        "import numpy as np\n",
        "import os"
      ],
      "metadata": {
        "id": "lK4EZSmmkxaK"
      },
      "execution_count": null,
      "outputs": []
    },
    {
      "cell_type": "code",
      "source": [
        "import pandas as pd\n",
        "import numpy as np\n",
        "\n"
      ],
      "metadata": {
        "id": "f8mfNsWXky_U"
      },
      "execution_count": null,
      "outputs": []
    },
    {
      "cell_type": "code",
      "source": [
        "csv = pd.read_csv(\"training-labels.csv\")"
      ],
      "metadata": {
        "id": "fxP-CsBGk2i6"
      },
      "execution_count": null,
      "outputs": []
    },
    {
      "cell_type": "code",
      "source": [
        "csv"
      ],
      "metadata": {
        "id": "fvRTz93p4Pu1",
        "outputId": "fafff0b9-a332-47bf-c5f5-8116f1bc9b2a",
        "colab": {
          "base_uri": "https://localhost:8080/",
          "height": 423
        }
      },
      "execution_count": null,
      "outputs": [
        {
          "output_type": "execute_result",
          "data": {
            "text/plain": [
              "                   Filename  Drscore\n",
              "0         train_image2.jpeg        0\n",
              "1         train_image3.jpeg        0\n",
              "2         train_image4.jpeg        0\n",
              "3         train_image5.jpeg        0\n",
              "4         train_image6.jpeg        0\n",
              "...                     ...      ...\n",
              "14140  train_image14142.jpg        2\n",
              "14141  train_image14143.jpg        2\n",
              "14142  train_image14144.jpg        2\n",
              "14143  train_image14145.jpg        2\n",
              "14144  train_image14146.jpg        2\n",
              "\n",
              "[14145 rows x 2 columns]"
            ],
            "text/html": [
              "\n",
              "  <div id=\"df-a15930dd-b3e2-4393-9892-e702ba7fc40d\">\n",
              "    <div class=\"colab-df-container\">\n",
              "      <div>\n",
              "<style scoped>\n",
              "    .dataframe tbody tr th:only-of-type {\n",
              "        vertical-align: middle;\n",
              "    }\n",
              "\n",
              "    .dataframe tbody tr th {\n",
              "        vertical-align: top;\n",
              "    }\n",
              "\n",
              "    .dataframe thead th {\n",
              "        text-align: right;\n",
              "    }\n",
              "</style>\n",
              "<table border=\"1\" class=\"dataframe\">\n",
              "  <thead>\n",
              "    <tr style=\"text-align: right;\">\n",
              "      <th></th>\n",
              "      <th>Filename</th>\n",
              "      <th>Drscore</th>\n",
              "    </tr>\n",
              "  </thead>\n",
              "  <tbody>\n",
              "    <tr>\n",
              "      <th>0</th>\n",
              "      <td>train_image2.jpeg</td>\n",
              "      <td>0</td>\n",
              "    </tr>\n",
              "    <tr>\n",
              "      <th>1</th>\n",
              "      <td>train_image3.jpeg</td>\n",
              "      <td>0</td>\n",
              "    </tr>\n",
              "    <tr>\n",
              "      <th>2</th>\n",
              "      <td>train_image4.jpeg</td>\n",
              "      <td>0</td>\n",
              "    </tr>\n",
              "    <tr>\n",
              "      <th>3</th>\n",
              "      <td>train_image5.jpeg</td>\n",
              "      <td>0</td>\n",
              "    </tr>\n",
              "    <tr>\n",
              "      <th>4</th>\n",
              "      <td>train_image6.jpeg</td>\n",
              "      <td>0</td>\n",
              "    </tr>\n",
              "    <tr>\n",
              "      <th>...</th>\n",
              "      <td>...</td>\n",
              "      <td>...</td>\n",
              "    </tr>\n",
              "    <tr>\n",
              "      <th>14140</th>\n",
              "      <td>train_image14142.jpg</td>\n",
              "      <td>2</td>\n",
              "    </tr>\n",
              "    <tr>\n",
              "      <th>14141</th>\n",
              "      <td>train_image14143.jpg</td>\n",
              "      <td>2</td>\n",
              "    </tr>\n",
              "    <tr>\n",
              "      <th>14142</th>\n",
              "      <td>train_image14144.jpg</td>\n",
              "      <td>2</td>\n",
              "    </tr>\n",
              "    <tr>\n",
              "      <th>14143</th>\n",
              "      <td>train_image14145.jpg</td>\n",
              "      <td>2</td>\n",
              "    </tr>\n",
              "    <tr>\n",
              "      <th>14144</th>\n",
              "      <td>train_image14146.jpg</td>\n",
              "      <td>2</td>\n",
              "    </tr>\n",
              "  </tbody>\n",
              "</table>\n",
              "<p>14145 rows × 2 columns</p>\n",
              "</div>\n",
              "      <button class=\"colab-df-convert\" onclick=\"convertToInteractive('df-a15930dd-b3e2-4393-9892-e702ba7fc40d')\"\n",
              "              title=\"Convert this dataframe to an interactive table.\"\n",
              "              style=\"display:none;\">\n",
              "        \n",
              "  <svg xmlns=\"http://www.w3.org/2000/svg\" height=\"24px\"viewBox=\"0 0 24 24\"\n",
              "       width=\"24px\">\n",
              "    <path d=\"M0 0h24v24H0V0z\" fill=\"none\"/>\n",
              "    <path d=\"M18.56 5.44l.94 2.06.94-2.06 2.06-.94-2.06-.94-.94-2.06-.94 2.06-2.06.94zm-11 1L8.5 8.5l.94-2.06 2.06-.94-2.06-.94L8.5 2.5l-.94 2.06-2.06.94zm10 10l.94 2.06.94-2.06 2.06-.94-2.06-.94-.94-2.06-.94 2.06-2.06.94z\"/><path d=\"M17.41 7.96l-1.37-1.37c-.4-.4-.92-.59-1.43-.59-.52 0-1.04.2-1.43.59L10.3 9.45l-7.72 7.72c-.78.78-.78 2.05 0 2.83L4 21.41c.39.39.9.59 1.41.59.51 0 1.02-.2 1.41-.59l7.78-7.78 2.81-2.81c.8-.78.8-2.07 0-2.86zM5.41 20L4 18.59l7.72-7.72 1.47 1.35L5.41 20z\"/>\n",
              "  </svg>\n",
              "      </button>\n",
              "      \n",
              "  <style>\n",
              "    .colab-df-container {\n",
              "      display:flex;\n",
              "      flex-wrap:wrap;\n",
              "      gap: 12px;\n",
              "    }\n",
              "\n",
              "    .colab-df-convert {\n",
              "      background-color: #E8F0FE;\n",
              "      border: none;\n",
              "      border-radius: 50%;\n",
              "      cursor: pointer;\n",
              "      display: none;\n",
              "      fill: #1967D2;\n",
              "      height: 32px;\n",
              "      padding: 0 0 0 0;\n",
              "      width: 32px;\n",
              "    }\n",
              "\n",
              "    .colab-df-convert:hover {\n",
              "      background-color: #E2EBFA;\n",
              "      box-shadow: 0px 1px 2px rgba(60, 64, 67, 0.3), 0px 1px 3px 1px rgba(60, 64, 67, 0.15);\n",
              "      fill: #174EA6;\n",
              "    }\n",
              "\n",
              "    [theme=dark] .colab-df-convert {\n",
              "      background-color: #3B4455;\n",
              "      fill: #D2E3FC;\n",
              "    }\n",
              "\n",
              "    [theme=dark] .colab-df-convert:hover {\n",
              "      background-color: #434B5C;\n",
              "      box-shadow: 0px 1px 3px 1px rgba(0, 0, 0, 0.15);\n",
              "      filter: drop-shadow(0px 1px 2px rgba(0, 0, 0, 0.3));\n",
              "      fill: #FFFFFF;\n",
              "    }\n",
              "  </style>\n",
              "\n",
              "      <script>\n",
              "        const buttonEl =\n",
              "          document.querySelector('#df-a15930dd-b3e2-4393-9892-e702ba7fc40d button.colab-df-convert');\n",
              "        buttonEl.style.display =\n",
              "          google.colab.kernel.accessAllowed ? 'block' : 'none';\n",
              "\n",
              "        async function convertToInteractive(key) {\n",
              "          const element = document.querySelector('#df-a15930dd-b3e2-4393-9892-e702ba7fc40d');\n",
              "          const dataTable =\n",
              "            await google.colab.kernel.invokeFunction('convertToInteractive',\n",
              "                                                     [key], {});\n",
              "          if (!dataTable) return;\n",
              "\n",
              "          const docLinkHtml = 'Like what you see? Visit the ' +\n",
              "            '<a target=\"_blank\" href=https://colab.research.google.com/notebooks/data_table.ipynb>data table notebook</a>'\n",
              "            + ' to learn more about interactive tables.';\n",
              "          element.innerHTML = '';\n",
              "          dataTable['output_type'] = 'display_data';\n",
              "          await google.colab.output.renderOutput(dataTable, element);\n",
              "          const docLink = document.createElement('div');\n",
              "          docLink.innerHTML = docLinkHtml;\n",
              "          element.appendChild(docLink);\n",
              "        }\n",
              "      </script>\n",
              "    </div>\n",
              "  </div>\n",
              "  "
            ]
          },
          "metadata": {},
          "execution_count": 5
        }
      ]
    },
    {
      "cell_type": "code",
      "source": [
        "adatok = []\n",
        "for i in csv.values.tolist():\n",
        "    adatok.append([\"adaptivbinarizalt/\" +i[0]   ,\n",
        "                   \"cany10/\"+i[0]  ,\n",
        "                   \"gradeient/\"+i[0]  ,\n",
        "                   \"szurkitet/\"+i[0]  ,\n",
        "                   \"adaptivbinarizaltblur/\"+i[0]  ,\n",
        "                   \"cany100/\"+i[0]  ,\n",
        "                   \"laplace/\"+i[0]  ,\n",
        "                   \"ujrameretezet/\"+i[0]  ,\n",
        "                   \"dilatacio/\"+i[0]  ,\n",
        "                   \"nyitas/\"+i[0]  ,\n",
        "                   \"zaras/\"+i[0]  ,\n",
        "                   \"binarizalttor/\"+i[0]  ,\n",
        "                   \"erozio/\"+i[0]  ,\n",
        "                   \"binarizalttorinv/\"+i[0]  ,\n",
        "                   i[1]])\n",
        "\n",
        "adatok = pd.DataFrame(adatok,columns= [\"adaptivbinarizalt\",\n",
        "                                       \"cany10\",\n",
        "                                       \"gradeient\",\n",
        "                                       \"szurkitet\",\n",
        "                                       \"adaptivbinarizaltblur\",\n",
        "                                       \"cany100\",\n",
        "                                       \"laplace\",\n",
        "                                       \"ujrameretezet\",\n",
        "                                       \"dilatacio\",\n",
        "                                       \"nyitas\",\n",
        "                                       \"zaras\",\n",
        "                                       \"binarizalttor\",\n",
        "                                       \"erozio\",\n",
        "                                       \"binarizalttorinv\",\n",
        "                                       \"label\"])"
      ],
      "metadata": {
        "id": "BtusaByrl6Oe"
      },
      "execution_count": null,
      "outputs": []
    },
    {
      "cell_type": "code",
      "source": [
        "import tensorflow as tf"
      ],
      "metadata": {
        "id": "mV1c2T9Uudhq"
      },
      "execution_count": null,
      "outputs": []
    },
    {
      "cell_type": "code",
      "source": [
        "#adatok = pd.read_csv(\"training-labels.csv\")\n",
        "from tensorflow.keras.preprocessing.image import ImageDataGenerator\n",
        "from keras.layers import Dense, Activation, Flatten, Dropout, BatchNormalization\n",
        "from keras.layers import Conv2D, MaxPooling2D\n",
        "from keras import regularizers, optimizers\n",
        "import pandas as pd\n",
        "import numpy as np\n",
        "datagen=ImageDataGenerator(validation_split=0.25)\n",
        "adatok[\"label\"]= adatok[\"label\"].map(str)\n",
        "datagenadaptiv=ImageDataGenerator(validation_split=0.25)\n",
        "train_generator=datagen.flow_from_dataframe(\n",
        "dataframe=adatok,\n",
        "directory=\"./atalakitot128/\",\n",
        "x_col=\"dilatacio\",\n",
        "y_col=\"label\",\n",
        "subset=\"training\",\n",
        "classes=['0','1','2','3','4'],\n",
        "batch_size=128,\n",
        "seed=42,\n",
        "shuffle=False,\n",
        "class_mode=\"sparse\",\n",
        "target_size=(128, 128))\n",
        "valid_generator=datagen.flow_from_dataframe(\n",
        "dataframe=adatok,\n",
        "directory=\"./atalakitot128/\",\n",
        "x_col=\"dilatacio\",\n",
        "y_col=\"label\",\n",
        "subset=\"validation\",\n",
        "classes=['0','1','2','3','4'],\n",
        "batch_size=128,\n",
        "seed=42,\n",
        "shuffle=False,\n",
        "class_mode=\"sparse\",\n",
        "target_size=(128, 128))\n"
      ],
      "metadata": {
        "colab": {
          "base_uri": "https://localhost:8080/"
        },
        "id": "TYILzQYek6Mv",
        "outputId": "e0a7d850-c5a2-45c9-ae17-f1b3ffec4090"
      },
      "execution_count": null,
      "outputs": [
        {
          "output_type": "stream",
          "name": "stdout",
          "text": [
            "Found 0 validated image filenames belonging to 5 classes.\n"
          ]
        },
        {
          "output_type": "stream",
          "name": "stderr",
          "text": [
            "/usr/local/lib/python3.8/dist-packages/keras/preprocessing/image.py:1137: UserWarning: Found 14145 invalid image filename(s) in x_col=\"dilatacio\". These filename(s) will be ignored.\n",
            "  warnings.warn(\n"
          ]
        },
        {
          "output_type": "stream",
          "name": "stdout",
          "text": [
            "Found 0 validated image filenames belonging to 5 classes.\n"
          ]
        }
      ]
    },
    {
      "cell_type": "code",
      "source": [
        "valid_generator.next()"
      ],
      "metadata": {
        "colab": {
          "base_uri": "https://localhost:8080/"
        },
        "id": "g5tZ54oXl1lq",
        "outputId": "fcbafd8f-49be-4604-8b38-34d50c88419e"
      },
      "execution_count": null,
      "outputs": [
        {
          "output_type": "execute_result",
          "data": {
            "text/plain": [
              "(array([], shape=(0, 128, 128, 3), dtype=float32), array([], dtype=float32))"
            ]
          },
          "metadata": {},
          "execution_count": 13
        }
      ]
    },
    {
      "cell_type": "code",
      "source": [
        "adatok.loc[:,[\"adaptivbinarizalt\",\"cany10\",\"cany100\",\"erozio\",\"dilatacio\",\"label\"]]"
      ],
      "metadata": {
        "colab": {
          "base_uri": "https://localhost:8080/",
          "height": 423
        },
        "id": "QgBzrfyzovqZ",
        "outputId": "25cdcd25-fc97-484c-fdf0-1934043942cf"
      },
      "execution_count": null,
      "outputs": [
        {
          "output_type": "execute_result",
          "data": {
            "text/plain": [
              "                            adaptivbinarizalt                       cany10  \\\n",
              "0         adaptivbinarizalt/train_image2.jpeg     cany10/train_image2.jpeg   \n",
              "1         adaptivbinarizalt/train_image3.jpeg     cany10/train_image3.jpeg   \n",
              "2         adaptivbinarizalt/train_image4.jpeg     cany10/train_image4.jpeg   \n",
              "3         adaptivbinarizalt/train_image5.jpeg     cany10/train_image5.jpeg   \n",
              "4         adaptivbinarizalt/train_image6.jpeg     cany10/train_image6.jpeg   \n",
              "...                                       ...                          ...   \n",
              "14140  adaptivbinarizalt/train_image14142.jpg  cany10/train_image14142.jpg   \n",
              "14141  adaptivbinarizalt/train_image14143.jpg  cany10/train_image14143.jpg   \n",
              "14142  adaptivbinarizalt/train_image14144.jpg  cany10/train_image14144.jpg   \n",
              "14143  adaptivbinarizalt/train_image14145.jpg  cany10/train_image14145.jpg   \n",
              "14144  adaptivbinarizalt/train_image14146.jpg  cany10/train_image14146.jpg   \n",
              "\n",
              "                            cany100                       erozio  \\\n",
              "0         cany100/train_image2.jpeg     erozio/train_image2.jpeg   \n",
              "1         cany100/train_image3.jpeg     erozio/train_image3.jpeg   \n",
              "2         cany100/train_image4.jpeg     erozio/train_image4.jpeg   \n",
              "3         cany100/train_image5.jpeg     erozio/train_image5.jpeg   \n",
              "4         cany100/train_image6.jpeg     erozio/train_image6.jpeg   \n",
              "...                             ...                          ...   \n",
              "14140  cany100/train_image14142.jpg  erozio/train_image14142.jpg   \n",
              "14141  cany100/train_image14143.jpg  erozio/train_image14143.jpg   \n",
              "14142  cany100/train_image14144.jpg  erozio/train_image14144.jpg   \n",
              "14143  cany100/train_image14145.jpg  erozio/train_image14145.jpg   \n",
              "14144  cany100/train_image14146.jpg  erozio/train_image14146.jpg   \n",
              "\n",
              "                            dilatacio label  \n",
              "0         dilatacio/train_image2.jpeg     0  \n",
              "1         dilatacio/train_image3.jpeg     0  \n",
              "2         dilatacio/train_image4.jpeg     0  \n",
              "3         dilatacio/train_image5.jpeg     0  \n",
              "4         dilatacio/train_image6.jpeg     0  \n",
              "...                               ...   ...  \n",
              "14140  dilatacio/train_image14142.jpg     2  \n",
              "14141  dilatacio/train_image14143.jpg     2  \n",
              "14142  dilatacio/train_image14144.jpg     2  \n",
              "14143  dilatacio/train_image14145.jpg     2  \n",
              "14144  dilatacio/train_image14146.jpg     2  \n",
              "\n",
              "[14145 rows x 6 columns]"
            ],
            "text/html": [
              "\n",
              "  <div id=\"df-a01e5547-2c5a-43f6-b3d5-23cc5ee63380\">\n",
              "    <div class=\"colab-df-container\">\n",
              "      <div>\n",
              "<style scoped>\n",
              "    .dataframe tbody tr th:only-of-type {\n",
              "        vertical-align: middle;\n",
              "    }\n",
              "\n",
              "    .dataframe tbody tr th {\n",
              "        vertical-align: top;\n",
              "    }\n",
              "\n",
              "    .dataframe thead th {\n",
              "        text-align: right;\n",
              "    }\n",
              "</style>\n",
              "<table border=\"1\" class=\"dataframe\">\n",
              "  <thead>\n",
              "    <tr style=\"text-align: right;\">\n",
              "      <th></th>\n",
              "      <th>adaptivbinarizalt</th>\n",
              "      <th>cany10</th>\n",
              "      <th>cany100</th>\n",
              "      <th>erozio</th>\n",
              "      <th>dilatacio</th>\n",
              "      <th>label</th>\n",
              "    </tr>\n",
              "  </thead>\n",
              "  <tbody>\n",
              "    <tr>\n",
              "      <th>0</th>\n",
              "      <td>adaptivbinarizalt/train_image2.jpeg</td>\n",
              "      <td>cany10/train_image2.jpeg</td>\n",
              "      <td>cany100/train_image2.jpeg</td>\n",
              "      <td>erozio/train_image2.jpeg</td>\n",
              "      <td>dilatacio/train_image2.jpeg</td>\n",
              "      <td>0</td>\n",
              "    </tr>\n",
              "    <tr>\n",
              "      <th>1</th>\n",
              "      <td>adaptivbinarizalt/train_image3.jpeg</td>\n",
              "      <td>cany10/train_image3.jpeg</td>\n",
              "      <td>cany100/train_image3.jpeg</td>\n",
              "      <td>erozio/train_image3.jpeg</td>\n",
              "      <td>dilatacio/train_image3.jpeg</td>\n",
              "      <td>0</td>\n",
              "    </tr>\n",
              "    <tr>\n",
              "      <th>2</th>\n",
              "      <td>adaptivbinarizalt/train_image4.jpeg</td>\n",
              "      <td>cany10/train_image4.jpeg</td>\n",
              "      <td>cany100/train_image4.jpeg</td>\n",
              "      <td>erozio/train_image4.jpeg</td>\n",
              "      <td>dilatacio/train_image4.jpeg</td>\n",
              "      <td>0</td>\n",
              "    </tr>\n",
              "    <tr>\n",
              "      <th>3</th>\n",
              "      <td>adaptivbinarizalt/train_image5.jpeg</td>\n",
              "      <td>cany10/train_image5.jpeg</td>\n",
              "      <td>cany100/train_image5.jpeg</td>\n",
              "      <td>erozio/train_image5.jpeg</td>\n",
              "      <td>dilatacio/train_image5.jpeg</td>\n",
              "      <td>0</td>\n",
              "    </tr>\n",
              "    <tr>\n",
              "      <th>4</th>\n",
              "      <td>adaptivbinarizalt/train_image6.jpeg</td>\n",
              "      <td>cany10/train_image6.jpeg</td>\n",
              "      <td>cany100/train_image6.jpeg</td>\n",
              "      <td>erozio/train_image6.jpeg</td>\n",
              "      <td>dilatacio/train_image6.jpeg</td>\n",
              "      <td>0</td>\n",
              "    </tr>\n",
              "    <tr>\n",
              "      <th>...</th>\n",
              "      <td>...</td>\n",
              "      <td>...</td>\n",
              "      <td>...</td>\n",
              "      <td>...</td>\n",
              "      <td>...</td>\n",
              "      <td>...</td>\n",
              "    </tr>\n",
              "    <tr>\n",
              "      <th>14140</th>\n",
              "      <td>adaptivbinarizalt/train_image14142.jpg</td>\n",
              "      <td>cany10/train_image14142.jpg</td>\n",
              "      <td>cany100/train_image14142.jpg</td>\n",
              "      <td>erozio/train_image14142.jpg</td>\n",
              "      <td>dilatacio/train_image14142.jpg</td>\n",
              "      <td>2</td>\n",
              "    </tr>\n",
              "    <tr>\n",
              "      <th>14141</th>\n",
              "      <td>adaptivbinarizalt/train_image14143.jpg</td>\n",
              "      <td>cany10/train_image14143.jpg</td>\n",
              "      <td>cany100/train_image14143.jpg</td>\n",
              "      <td>erozio/train_image14143.jpg</td>\n",
              "      <td>dilatacio/train_image14143.jpg</td>\n",
              "      <td>2</td>\n",
              "    </tr>\n",
              "    <tr>\n",
              "      <th>14142</th>\n",
              "      <td>adaptivbinarizalt/train_image14144.jpg</td>\n",
              "      <td>cany10/train_image14144.jpg</td>\n",
              "      <td>cany100/train_image14144.jpg</td>\n",
              "      <td>erozio/train_image14144.jpg</td>\n",
              "      <td>dilatacio/train_image14144.jpg</td>\n",
              "      <td>2</td>\n",
              "    </tr>\n",
              "    <tr>\n",
              "      <th>14143</th>\n",
              "      <td>adaptivbinarizalt/train_image14145.jpg</td>\n",
              "      <td>cany10/train_image14145.jpg</td>\n",
              "      <td>cany100/train_image14145.jpg</td>\n",
              "      <td>erozio/train_image14145.jpg</td>\n",
              "      <td>dilatacio/train_image14145.jpg</td>\n",
              "      <td>2</td>\n",
              "    </tr>\n",
              "    <tr>\n",
              "      <th>14144</th>\n",
              "      <td>adaptivbinarizalt/train_image14146.jpg</td>\n",
              "      <td>cany10/train_image14146.jpg</td>\n",
              "      <td>cany100/train_image14146.jpg</td>\n",
              "      <td>erozio/train_image14146.jpg</td>\n",
              "      <td>dilatacio/train_image14146.jpg</td>\n",
              "      <td>2</td>\n",
              "    </tr>\n",
              "  </tbody>\n",
              "</table>\n",
              "<p>14145 rows × 6 columns</p>\n",
              "</div>\n",
              "      <button class=\"colab-df-convert\" onclick=\"convertToInteractive('df-a01e5547-2c5a-43f6-b3d5-23cc5ee63380')\"\n",
              "              title=\"Convert this dataframe to an interactive table.\"\n",
              "              style=\"display:none;\">\n",
              "        \n",
              "  <svg xmlns=\"http://www.w3.org/2000/svg\" height=\"24px\"viewBox=\"0 0 24 24\"\n",
              "       width=\"24px\">\n",
              "    <path d=\"M0 0h24v24H0V0z\" fill=\"none\"/>\n",
              "    <path d=\"M18.56 5.44l.94 2.06.94-2.06 2.06-.94-2.06-.94-.94-2.06-.94 2.06-2.06.94zm-11 1L8.5 8.5l.94-2.06 2.06-.94-2.06-.94L8.5 2.5l-.94 2.06-2.06.94zm10 10l.94 2.06.94-2.06 2.06-.94-2.06-.94-.94-2.06-.94 2.06-2.06.94z\"/><path d=\"M17.41 7.96l-1.37-1.37c-.4-.4-.92-.59-1.43-.59-.52 0-1.04.2-1.43.59L10.3 9.45l-7.72 7.72c-.78.78-.78 2.05 0 2.83L4 21.41c.39.39.9.59 1.41.59.51 0 1.02-.2 1.41-.59l7.78-7.78 2.81-2.81c.8-.78.8-2.07 0-2.86zM5.41 20L4 18.59l7.72-7.72 1.47 1.35L5.41 20z\"/>\n",
              "  </svg>\n",
              "      </button>\n",
              "      \n",
              "  <style>\n",
              "    .colab-df-container {\n",
              "      display:flex;\n",
              "      flex-wrap:wrap;\n",
              "      gap: 12px;\n",
              "    }\n",
              "\n",
              "    .colab-df-convert {\n",
              "      background-color: #E8F0FE;\n",
              "      border: none;\n",
              "      border-radius: 50%;\n",
              "      cursor: pointer;\n",
              "      display: none;\n",
              "      fill: #1967D2;\n",
              "      height: 32px;\n",
              "      padding: 0 0 0 0;\n",
              "      width: 32px;\n",
              "    }\n",
              "\n",
              "    .colab-df-convert:hover {\n",
              "      background-color: #E2EBFA;\n",
              "      box-shadow: 0px 1px 2px rgba(60, 64, 67, 0.3), 0px 1px 3px 1px rgba(60, 64, 67, 0.15);\n",
              "      fill: #174EA6;\n",
              "    }\n",
              "\n",
              "    [theme=dark] .colab-df-convert {\n",
              "      background-color: #3B4455;\n",
              "      fill: #D2E3FC;\n",
              "    }\n",
              "\n",
              "    [theme=dark] .colab-df-convert:hover {\n",
              "      background-color: #434B5C;\n",
              "      box-shadow: 0px 1px 3px 1px rgba(0, 0, 0, 0.15);\n",
              "      filter: drop-shadow(0px 1px 2px rgba(0, 0, 0, 0.3));\n",
              "      fill: #FFFFFF;\n",
              "    }\n",
              "  </style>\n",
              "\n",
              "      <script>\n",
              "        const buttonEl =\n",
              "          document.querySelector('#df-a01e5547-2c5a-43f6-b3d5-23cc5ee63380 button.colab-df-convert');\n",
              "        buttonEl.style.display =\n",
              "          google.colab.kernel.accessAllowed ? 'block' : 'none';\n",
              "\n",
              "        async function convertToInteractive(key) {\n",
              "          const element = document.querySelector('#df-a01e5547-2c5a-43f6-b3d5-23cc5ee63380');\n",
              "          const dataTable =\n",
              "            await google.colab.kernel.invokeFunction('convertToInteractive',\n",
              "                                                     [key], {});\n",
              "          if (!dataTable) return;\n",
              "\n",
              "          const docLinkHtml = 'Like what you see? Visit the ' +\n",
              "            '<a target=\"_blank\" href=https://colab.research.google.com/notebooks/data_table.ipynb>data table notebook</a>'\n",
              "            + ' to learn more about interactive tables.';\n",
              "          element.innerHTML = '';\n",
              "          dataTable['output_type'] = 'display_data';\n",
              "          await google.colab.output.renderOutput(dataTable, element);\n",
              "          const docLink = document.createElement('div');\n",
              "          docLink.innerHTML = docLinkHtml;\n",
              "          element.appendChild(docLink);\n",
              "        }\n",
              "      </script>\n",
              "    </div>\n",
              "  </div>\n",
              "  "
            ]
          },
          "metadata": {},
          "execution_count": 14
        }
      ]
    },
    {
      "cell_type": "code",
      "source": [
        "def generate_generator_multiple(generator,adatok):\n",
        "    #datagenadaptiv=ImageDataGenerator(validation_split=0.25)\n",
        "    train_generator4=generator.flow_from_dataframe(\n",
        "    dataframe=adatok,\n",
        "    directory=\"./atalakitot128/\",\n",
        "    x_col=\"cany10\",\n",
        "    y_col=\"label\",\n",
        "    subset=\"training\",\n",
        "    classes=['0','1','2','3','4'],\n",
        "    batch_size=128,\n",
        "    seed=42,\n",
        "    shuffle=False,\n",
        "    class_mode=\"sparse\",\n",
        "    target_size=(128, 128))\n",
        "    train_generator=generator.flow_from_dataframe(\n",
        "dataframe=adatok,\n",
        "directory=\"./atalakitot128/\",\n",
        "x_col=\"adaptivbinarizaltblur\",\n",
        "y_col=\"label\",\n",
        "subset=\"training\",\n",
        "classes=['0','1','2','3','4'],\n",
        "batch_size=128,\n",
        "seed=42,\n",
        "shuffle=False,\n",
        "class_mode=\"sparse\",\n",
        "target_size=(128, 128))\n",
        "    train_generator3=generator.flow_from_dataframe(\n",
        "dataframe=adatok,\n",
        "directory=\"./atalakitot128/\",\n",
        "x_col=\"dilatacio\",\n",
        "y_col=\"label\",\n",
        "subset=\"training\",\n",
        "classes=['0','1','2','3','4'],\n",
        "batch_size=128,\n",
        "seed=42,\n",
        "shuffle=False,\n",
        "class_mode=\"sparse\",\n",
        "target_size=(128, 128))\n",
        "    train_generator2=generator.flow_from_dataframe(\n",
        "dataframe=adatok,\n",
        "directory=\"./atalakitot128/\",\n",
        "x_col=\"erozio\",\n",
        "y_col=\"label\",\n",
        "subset=\"training\",\n",
        "classes=['0','1','2','3','4'],\n",
        "batch_size=128,\n",
        "seed=42,\n",
        "shuffle=False,\n",
        "class_mode=\"sparse\",\n",
        "target_size=(128, 128))\n",
        "    train_generator5=datagen.flow_from_dataframe(\n",
        "dataframe=adatok,\n",
        "directory=\"./atalakitot128/\",\n",
        "x_col=\"cany100\",\n",
        "y_col=\"label\",\n",
        "subset=\"training\",\n",
        "classes=['0','1','2','3','4'],\n",
        "batch_size=128,\n",
        "seed=42,\n",
        "shuffle=False,\n",
        "class_mode=\"sparse\",\n",
        "target_size=(128, 128))\n",
        "    while True:\n",
        "            X1i = train_generator.next()\n",
        "            X2i = train_generator2.next()\n",
        "            X3i = train_generator3.next()\n",
        "            X4i = train_generator4.next()\n",
        "            X5i = train_generator5.next()\n",
        "            yield [X1i[0], X2i[0],X3i[0],X4i[0],X5i[0]], X2i[1]  #Yield both images and their mutual label"
      ],
      "metadata": {
        "id": "IaCvLAG6pBZM"
      },
      "execution_count": null,
      "outputs": []
    },
    {
      "cell_type": "code",
      "source": [
        "def generate_generator_multiple_test(generator,adatok):\n",
        "    #datagenadaptiv=ImageDataGenerator(validation_split=0.25)\n",
        "    train_generator4=generator.flow_from_dataframe(\n",
        "    dataframe=adatok,\n",
        "    directory=\"./atalakitot128/\",\n",
        "    x_col=\"cany10\",\n",
        "    y_col=\"label\",\n",
        "    subset=\"validation\",\n",
        "    classes=['0','1','2','3','4'],\n",
        "    batch_size=128,\n",
        "    seed=42,\n",
        "    shuffle=False,\n",
        "    class_mode=\"sparse\",\n",
        "    target_size=(128, 128))\n",
        "    train_generator=generator.flow_from_dataframe(\n",
        "dataframe=adatok,\n",
        "directory=\"./atalakitot128/\",\n",
        "x_col=\"adaptivbinarizaltblur\",\n",
        "y_col=\"label\",\n",
        "subset=\"validation\",\n",
        "classes=['0','1','2','3','4'],\n",
        "batch_size=128,\n",
        "seed=42,\n",
        "shuffle=False,\n",
        "class_mode=\"sparse\",\n",
        "target_size=(128, 128))\n",
        "    train_generator3=generator.flow_from_dataframe(\n",
        "dataframe=adatok,\n",
        "directory=\"./atalakitot128/\",\n",
        "x_col=\"dilatacio\",\n",
        "y_col=\"label\",\n",
        "subset=\"validation\",\n",
        "classes=['0','1','2','3','4'],\n",
        "batch_size=128,\n",
        "seed=42,\n",
        "shuffle=False,\n",
        "class_mode=\"sparse\",\n",
        "target_size=(128, 128))\n",
        "    train_generator2=generator.flow_from_dataframe(\n",
        "dataframe=adatok,\n",
        "directory=\"./atalakitot128/\",\n",
        "x_col=\"erozio\",\n",
        "y_col=\"label\",\n",
        "subset=\"validation\",\n",
        "classes=['0','1','2','3','4'],\n",
        "batch_size=128,\n",
        "seed=42,\n",
        "shuffle=False,\n",
        "class_mode=\"sparse\",\n",
        "target_size=(128, 128))\n",
        "    train_generator5=datagen.flow_from_dataframe(\n",
        "dataframe=adatok,\n",
        "directory=\"./atalakitot128/\",\n",
        "x_col=\"cany100\",\n",
        "y_col=\"label\",\n",
        "subset=\"validation\",\n",
        "classes=['0','1','2','3','4'],\n",
        "batch_size=128,\n",
        "seed=42,\n",
        "shuffle=False,\n",
        "class_mode=\"sparse\",\n",
        "target_size=(128, 128))\n",
        "    while True:\n",
        "            X1i = train_generator.next()\n",
        "            X2i = train_generator2.next()\n",
        "            X3i = train_generator3.next()\n",
        "            X4i = train_generator4.next()\n",
        "            X5i = train_generator5.next()\n",
        "            yield [X1i[0], X2i[0],X3i[0],X4i[0],X5i[0]], X2i[1]  #Yield both images and their mutual label"
      ],
      "metadata": {
        "id": "nkn87gHEpKX9"
      },
      "execution_count": null,
      "outputs": []
    },
    {
      "cell_type": "code",
      "source": [
        "#adatok = pd.read_csv(\"training-labels.csv\")\n",
        "from tensorflow.keras.preprocessing.image import ImageDataGenerator\n",
        "from keras.layers import Dense, Activation, Flatten, Dropout, BatchNormalization\n",
        "from keras.layers import Conv2D, MaxPooling2D\n",
        "from keras import regularizers, optimizers\n",
        "import pandas as pd\n",
        "import numpy as np\n",
        "datagen=ImageDataGenerator(validation_split=0.25)\n",
        "adatok[\"label\"]= adatok[\"label\"].map(str)"
      ],
      "metadata": {
        "id": "10xW7AlhpMz6"
      },
      "execution_count": null,
      "outputs": []
    },
    {
      "cell_type": "code",
      "source": [
        "train = generate_generator_multiple(datagen,adatok)\n",
        "test = generate_generator_multiple_test(datagen,adatok)"
      ],
      "metadata": {
        "id": "wA-oYWkmpO8B"
      },
      "execution_count": null,
      "outputs": []
    },
    {
      "cell_type": "code",
      "source": [
        "next(iter(train))"
      ],
      "metadata": {
        "colab": {
          "base_uri": "https://localhost:8080/"
        },
        "id": "W8-_XtgjpS2n",
        "outputId": "e608330e-3e3f-4753-8747-afb6db6d93ef"
      },
      "execution_count": null,
      "outputs": [
        {
          "output_type": "stream",
          "name": "stdout",
          "text": [
            "Found 0 validated image filenames belonging to 5 classes.\n"
          ]
        },
        {
          "output_type": "stream",
          "name": "stderr",
          "text": [
            "/usr/local/lib/python3.8/dist-packages/keras/preprocessing/image.py:1137: UserWarning: Found 14145 invalid image filename(s) in x_col=\"cany10\". These filename(s) will be ignored.\n",
            "  warnings.warn(\n"
          ]
        },
        {
          "output_type": "stream",
          "name": "stdout",
          "text": [
            "Found 0 validated image filenames belonging to 5 classes.\n"
          ]
        },
        {
          "output_type": "stream",
          "name": "stderr",
          "text": [
            "/usr/local/lib/python3.8/dist-packages/keras/preprocessing/image.py:1137: UserWarning: Found 14145 invalid image filename(s) in x_col=\"adaptivbinarizaltblur\". These filename(s) will be ignored.\n",
            "  warnings.warn(\n"
          ]
        },
        {
          "output_type": "stream",
          "name": "stdout",
          "text": [
            "Found 0 validated image filenames belonging to 5 classes.\n"
          ]
        },
        {
          "output_type": "stream",
          "name": "stderr",
          "text": [
            "/usr/local/lib/python3.8/dist-packages/keras/preprocessing/image.py:1137: UserWarning: Found 14145 invalid image filename(s) in x_col=\"dilatacio\". These filename(s) will be ignored.\n",
            "  warnings.warn(\n"
          ]
        },
        {
          "output_type": "stream",
          "name": "stdout",
          "text": [
            "Found 0 validated image filenames belonging to 5 classes.\n"
          ]
        },
        {
          "output_type": "stream",
          "name": "stderr",
          "text": [
            "/usr/local/lib/python3.8/dist-packages/keras/preprocessing/image.py:1137: UserWarning: Found 14145 invalid image filename(s) in x_col=\"erozio\". These filename(s) will be ignored.\n",
            "  warnings.warn(\n"
          ]
        },
        {
          "output_type": "stream",
          "name": "stdout",
          "text": [
            "Found 0 validated image filenames belonging to 5 classes.\n"
          ]
        },
        {
          "output_type": "stream",
          "name": "stderr",
          "text": [
            "/usr/local/lib/python3.8/dist-packages/keras/preprocessing/image.py:1137: UserWarning: Found 14145 invalid image filename(s) in x_col=\"cany100\". These filename(s) will be ignored.\n",
            "  warnings.warn(\n"
          ]
        },
        {
          "output_type": "execute_result",
          "data": {
            "text/plain": [
              "([array([], shape=(0, 128, 128, 3), dtype=float32),\n",
              "  array([], shape=(0, 128, 128, 3), dtype=float32),\n",
              "  array([], shape=(0, 128, 128, 3), dtype=float32),\n",
              "  array([], shape=(0, 128, 128, 3), dtype=float32),\n",
              "  array([], shape=(0, 128, 128, 3), dtype=float32)],\n",
              " array([], dtype=float32))"
            ]
          },
          "metadata": {},
          "execution_count": 19
        }
      ]
    },
    {
      "cell_type": "code",
      "source": [],
      "metadata": {
        "id": "b10SzZ4mpUby"
      },
      "execution_count": null,
      "outputs": []
    }
  ]
}