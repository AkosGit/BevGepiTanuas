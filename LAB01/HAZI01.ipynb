{
 "cells": [
  {
   "cell_type": "markdown",
   "metadata": {},
   "source": [
    "## Feladat\n",
    "Oil.csv 3 napos felbontással keszitsd elő az adatoknak.​\n",
    "Daily Climate time series data 1 hetes vagy 1 honapos adat feldolgozás​\n",
    "Diabetic Retinopathy (resized) képek beolvasás generator elkészítése újra méretezni és scalelni.​\n",
    "Diabetic Retinopathy (resized) képek augmentálása random flip, resize layer.​\n",
    "\n",
    "Plusz pontért:​\n",
    "Probál modelt feltanitani és kiértékelni.​"
   ]
  },
  {
   "cell_type": "code",
   "execution_count": null,
   "metadata": {},
   "outputs": [],
   "source": [
    "import pandas as pd\n",
    "import numpy as np\n",
    "import datetime"
   ]
  },
  {
   "cell_type": "code",
   "execution_count": null,
   "metadata": {},
   "outputs": [],
   "source": [
    "data = pd.read_csv(\"oil.csv\")"
   ]
  },
  {
   "cell_type": "code",
   "execution_count": null,
   "metadata": {},
   "outputs": [],
   "source": []
  }
 ],
 "metadata": {
  "kernelspec": {
   "display_name": "Python 3",
   "language": "python",
   "name": "python3"
  },
  "language_info": {
   "name": "python",
   "version": "3.9.0"
  },
  "orig_nbformat": 4
 },
 "nbformat": 4,
 "nbformat_minor": 2
}
